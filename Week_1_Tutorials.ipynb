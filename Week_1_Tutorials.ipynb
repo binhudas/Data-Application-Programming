{
  "nbformat": 4,
  "nbformat_minor": 0,
  "metadata": {
    "colab": {
      "provenance": [],
      "collapsed_sections": [
        "n0WI-lxUFdyC",
        "aP25Ir5qHoJh"
      ],
      "authorship_tag": "ABX9TyNcRktFA8g8BC6ZAD5zCv6M",
      "include_colab_link": true
    },
    "kernelspec": {
      "name": "python3",
      "display_name": "Python 3"
    },
    "language_info": {
      "name": "python"
    }
  },
  "cells": [
    {
      "cell_type": "markdown",
      "metadata": {
        "id": "view-in-github",
        "colab_type": "text"
      },
      "source": [
        "<a href=\"https://colab.research.google.com/github/binhudas/Data-Application-Programming/blob/main/Week_1_Tutorials.ipynb\" target=\"_parent\"><img src=\"https://colab.research.google.com/assets/colab-badge.svg\" alt=\"Open In Colab\"/></a>"
      ]
    },
    {
      "cell_type": "code",
      "execution_count": 1,
      "metadata": {
        "colab": {
          "base_uri": "https://localhost:8080/"
        },
        "id": "QVYT09ssz7XY",
        "outputId": "b2f2ee8c-b190-4a0c-83a4-49ee5fc9251f"
      },
      "outputs": [
        {
          "output_type": "stream",
          "name": "stdout",
          "text": [
            "Collecting pyspark==3.4.0\n",
            "  Downloading pyspark-3.4.0.tar.gz (310.8 MB)\n",
            "\u001b[2K     \u001b[90m━━━━━━━━━━━━━━━━━━━━━━━━━━━━━━━━━━━━━━━━\u001b[0m \u001b[32m310.8/310.8 MB\u001b[0m \u001b[31m2.6 MB/s\u001b[0m eta \u001b[36m0:00:00\u001b[0m\n",
            "\u001b[?25h  Preparing metadata (setup.py) ... \u001b[?25l\u001b[?25hdone\n",
            "Requirement already satisfied: py4j==0.10.9.7 in /usr/local/lib/python3.10/dist-packages (from pyspark==3.4.0) (0.10.9.7)\n",
            "Building wheels for collected packages: pyspark\n",
            "  Building wheel for pyspark (setup.py) ... \u001b[?25l\u001b[?25hdone\n",
            "  Created wheel for pyspark: filename=pyspark-3.4.0-py2.py3-none-any.whl size=311317122 sha256=38e0d9de6a243a66149a948dc2b8aae0d4afb31f092b3f2fd72dcafaa4c3e50b\n",
            "  Stored in directory: /root/.cache/pip/wheels/7b/1b/4b/3363a1d04368e7ff0d408e57ff57966fcdf00583774e761327\n",
            "Successfully built pyspark\n",
            "Installing collected packages: pyspark\n",
            "Successfully installed pyspark-3.4.0\n"
          ]
        }
      ],
      "source": [
        "!pip install pyspark==3.4.0\n"
      ]
    },
    {
      "cell_type": "markdown",
      "source": [
        "#  Profiling Python Code\n",
        "\n",
        "## Software Profiling is the process of analysing various metrics of a program to identify the most inefficient parts. It is the final part of the process of considering whether optimising code is worthwhile.\n",
        "\n",
        "*Testing: Have you tested your code to prove that it works as expected and without errors?*\n",
        "\n",
        "*Refactoring: Does your code need some cleanup to become more maintainable and Pythonic?*\n",
        "\n",
        "*Profiling: Have you identified the most inefficient parts of your code?*\n",
        "\n",
        "## Dynamic analysis is important for profiling rather than static code review. As Dynamic profiling involves running a slow piece of code again and again, you start with small inputs of data.\n",
        "\n",
        "## The profiling tools used will be **Timers**, **Deterministic Profilers** and **Statistical Profilers**\n"
      ],
      "metadata": {
        "id": "i7SVb6JQBYf-"
      }
    },
    {
      "cell_type": "markdown",
      "source": [
        "# **Timers**"
      ],
      "metadata": {
        "id": "n0WI-lxUFdyC"
      }
    },
    {
      "cell_type": "markdown",
      "source": [
        "## **time**: Measure the Execution Time"
      ],
      "metadata": {
        "id": "aP25Ir5qHoJh"
      }
    },
    {
      "cell_type": "code",
      "source": [
        ">>> import time\n",
        "\n",
        ">>> def sleeper():\n",
        "...     time.sleep(1.75)\n",
        "# This function asks the OS task scheduler to suspend current thread of execution fot 1.75s\n",
        "# The function remain dormant allowing other programs to run\n",
        "...\n",
        "\n",
        ">>> def spinlock():\n",
        "...     for _ in range(100_000_000):\n",
        "...         pass\n",
        "# This function wastes CPU cycles in constrast\n",
        "...\n",
        "\n",
        "# We now call the test functions but before and after we check the current time with time.perf_counter() to obtain the elapsed real time and time.process_time() to obtain the CPU time\n",
        ">>> for function in sleeper, spinlock:\n",
        "...     t1 = time.perf_counter(), time.process_time()\n",
        "...     function()\n",
        "...     t2 = time.perf_counter(), time.process_time()\n",
        "...     print(f\"{function.__name__}()\")\n",
        "...     print(f\" Real time: {t2[0] - t1[0]:.2f} seconds\")\n",
        "...     print(f\" CPU time: {t2[1] - t1[1]:.2f} seconds\")\n",
        "...     print()\n",
        "\n",
        "# sleeper()\n",
        "#  Real time: 1.75 seconds\n",
        "#  CPU time: 0.01 seconds\n",
        "\n",
        "# spinlock()\n",
        "#  Real time: 2.31 seconds\n",
        "#  CPU time: 2.31 seconds\n"
      ],
      "metadata": {
        "colab": {
          "base_uri": "https://localhost:8080/"
        },
        "id": "YNBloxvOFogm",
        "outputId": "8b2b1b10-23d4-4136-c53a-eac1ebb9055e"
      },
      "execution_count": 8,
      "outputs": [
        {
          "output_type": "stream",
          "name": "stdout",
          "text": [
            "sleeper()\n",
            " Real time: 1.75 seconds\n",
            " CPU time: 0.01 seconds\n",
            "\n",
            "spinlock()\n",
            " Real time: 2.31 seconds\n",
            " CPU time: 2.31 seconds\n",
            "\n"
          ]
        }
      ]
    },
    {
      "cell_type": "markdown",
      "source": [
        "The time module is versatile and quick to set up - *good for temporary checks*\n",
        "\n",
        "It takes into account factors like system load - *gives accurate impression of runtime in real world conditions*\n"
      ],
      "metadata": {
        "id": "gzq-m7TuH1_C"
      }
    },
    {
      "cell_type": "markdown",
      "source": [
        "## timeit: Benchmark Short Code Snippets\n"
      ],
      "metadata": {
        "id": "xvPN166HIgXV"
      }
    },
    {
      "cell_type": "code",
      "source": [
        ">>> from timeit import timeit\n",
        "\n",
        "\n",
        "# this is a function that calculates the nth element of the fibonacci sequence.\n",
        ">>> def fib(n):\n",
        "...     return n if n < 2 else fib(n - 2) + fib(n - 1)\n",
        "...\n",
        "\n",
        ">>> iterations = 100\n",
        "\n",
        "# we ask timeit to measure the total time over 100 iterations of the program\n",
        ">>> total_time = timeit(\"fib(30)\", number=iterations, globals=globals())\n",
        "\n",
        "# and then calculate the average time by dividing by the total number of iterations.\n",
        ">>> f\"Average time is {total_time / iterations:.2f} seconds\"\n",
        "'Average time is 0.15 seconds'"
      ],
      "metadata": {
        "colab": {
          "base_uri": "https://localhost:8080/",
          "height": 36
        },
        "id": "R-VepTvsJFSF",
        "outputId": "d942a076-51cd-43af-ec31-0657f514a146"
      },
      "execution_count": 9,
      "outputs": [
        {
          "output_type": "execute_result",
          "data": {
            "text/plain": [
              "'Average time is 0.15 seconds'"
            ],
            "application/vnd.google.colaboratory.intrinsic+json": {
              "type": "string"
            }
          },
          "metadata": {},
          "execution_count": 9
        }
      ]
    },
    {
      "cell_type": "markdown",
      "source": [
        "\n",
        "\n",
        "This repetition minimises the effects of sysem noise on timing - *reducess the impoact of external factors*\n",
        "\n",
        "\n",
        "\n"
      ],
      "metadata": {
        "id": "2NqSLHryJBUH"
      }
    },
    {
      "cell_type": "markdown",
      "source": [],
      "metadata": {
        "id": "Fqi7pycoTvRk"
      }
    },
    {
      "cell_type": "markdown",
      "source": [
        "# Extra Stuff\n",
        "\n",
        "https://realpython.com/python-profiling/#timeit-benchmark-short-code-snippets\n"
      ],
      "metadata": {
        "id": "JoDns4VJUOIl"
      }
    }
  ]
}